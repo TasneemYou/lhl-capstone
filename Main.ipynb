{
 "cells": [
  {
   "cell_type": "code",
   "execution_count": 1,
   "id": "2d26abcb",
   "metadata": {},
   "outputs": [],
   "source": [
    "import warnings\n",
    "warnings.filterwarnings('ignore')"
   ]
  },
  {
   "cell_type": "code",
   "execution_count": 2,
   "id": "4d1c1a80",
   "metadata": {},
   "outputs": [],
   "source": [
    "import pandas as pd\n",
    "import numpy as np\n",
    "import matplotlib.pyplot as plt\n",
    "import seaborn as sns\n",
    "sns.set_theme(style='darkgrid', context='talk')\n",
    "import re"
   ]
  },
  {
   "cell_type": "code",
   "execution_count": 3,
   "id": "94722f81",
   "metadata": {},
   "outputs": [],
   "source": [
    "%load_ext autoreload\n",
    "%autoreload 2\n",
    "import preprocessing as pr"
   ]
  },
  {
   "cell_type": "code",
   "execution_count": 4,
   "id": "f624aead",
   "metadata": {},
   "outputs": [],
   "source": [
    "df21=pd.read_excel('data2.xlsx', sheet_name='2021',index_col=0)"
   ]
  },
  {
   "cell_type": "code",
   "execution_count": 5,
   "id": "955c9bef",
   "metadata": {},
   "outputs": [],
   "source": [
    "df20=pd.read_excel('data2.xlsx', sheet_name='2020',index_col=0)"
   ]
  },
  {
   "cell_type": "code",
   "execution_count": 6,
   "id": "8ecc58e0",
   "metadata": {},
   "outputs": [],
   "source": [
    "df17=pd.read_excel('data2.xlsx', sheet_name='2017',index_col=0)"
   ]
  },
  {
   "cell_type": "code",
   "execution_count": 34,
   "id": "e5bbdfb0",
   "metadata": {},
   "outputs": [],
   "source": [
    "df=pd.concat([df21,df20,df17], ignore_index=True)"
   ]
  },
  {
   "cell_type": "code",
   "execution_count": 8,
   "id": "560fa62b",
   "metadata": {
    "scrolled": false
   },
   "outputs": [
    {
     "data": {
      "text/plain": [
       "(5314, 34)"
      ]
     },
     "execution_count": 8,
     "metadata": {},
     "output_type": "execute_result"
    }
   ],
   "source": [
    "df.shape"
   ]
  },
  {
   "cell_type": "code",
   "execution_count": 35,
   "id": "7d8451a5",
   "metadata": {},
   "outputs": [],
   "source": [
    "df=pr.preprocess(df)"
   ]
  },
  {
   "cell_type": "code",
   "execution_count": 28,
   "id": "800c2662",
   "metadata": {
    "scrolled": true
   },
   "outputs": [
    {
     "data": {
      "text/html": [
       "<div>\n",
       "<style scoped>\n",
       "    .dataframe tbody tr th:only-of-type {\n",
       "        vertical-align: middle;\n",
       "    }\n",
       "\n",
       "    .dataframe tbody tr th {\n",
       "        vertical-align: top;\n",
       "    }\n",
       "\n",
       "    .dataframe thead th {\n",
       "        text-align: right;\n",
       "    }\n",
       "</style>\n",
       "<table border=\"1\" class=\"dataframe\">\n",
       "  <thead>\n",
       "    <tr style=\"text-align: right;\">\n",
       "      <th></th>\n",
       "      <th>Total</th>\n",
       "      <th>Percent</th>\n",
       "    </tr>\n",
       "  </thead>\n",
       "  <tbody>\n",
       "    <tr>\n",
       "      <th>Average_laoding_greater_than_max_flag</th>\n",
       "      <td>5314</td>\n",
       "      <td>1.000000</td>\n",
       "    </tr>\n",
       "    <tr>\n",
       "      <th>Issuance_Date</th>\n",
       "      <td>4844</td>\n",
       "      <td>0.911554</td>\n",
       "    </tr>\n",
       "    <tr>\n",
       "      <th>FDF_ID.</th>\n",
       "      <td>1864</td>\n",
       "      <td>0.350772</td>\n",
       "    </tr>\n",
       "    <tr>\n",
       "      <th>Date_of_Transformer_Approved</th>\n",
       "      <td>1444</td>\n",
       "      <td>0.271735</td>\n",
       "    </tr>\n",
       "    <tr>\n",
       "      <th>Fault_Location</th>\n",
       "      <td>329</td>\n",
       "      <td>0.061912</td>\n",
       "    </tr>\n",
       "    <tr>\n",
       "      <th>Date_of_Transformer_Receipt</th>\n",
       "      <td>64</td>\n",
       "      <td>0.012044</td>\n",
       "    </tr>\n",
       "    <tr>\n",
       "      <th>Max._oil_level_(Ltr.)</th>\n",
       "      <td>0</td>\n",
       "      <td>0.000000</td>\n",
       "    </tr>\n",
       "    <tr>\n",
       "      <th>Oil_Quantity</th>\n",
       "      <td>0</td>\n",
       "      <td>0.000000</td>\n",
       "    </tr>\n",
       "    <tr>\n",
       "      <th>Oil_%</th>\n",
       "      <td>0</td>\n",
       "      <td>0.000000</td>\n",
       "    </tr>\n",
       "    <tr>\n",
       "      <th>TTR_Status</th>\n",
       "      <td>0</td>\n",
       "      <td>0.000000</td>\n",
       "    </tr>\n",
       "    <tr>\n",
       "      <th>Tap_changer_status</th>\n",
       "      <td>0</td>\n",
       "      <td>0.000000</td>\n",
       "    </tr>\n",
       "    <tr>\n",
       "      <th>Silica_Gel_Status</th>\n",
       "      <td>0</td>\n",
       "      <td>0.000000</td>\n",
       "    </tr>\n",
       "    <tr>\n",
       "      <th>Oil_status</th>\n",
       "      <td>0</td>\n",
       "      <td>0.000000</td>\n",
       "    </tr>\n",
       "    <tr>\n",
       "      <th>REMARKS</th>\n",
       "      <td>0</td>\n",
       "      <td>0.000000</td>\n",
       "    </tr>\n",
       "    <tr>\n",
       "      <th>Conservator_Tank_Valve</th>\n",
       "      <td>0</td>\n",
       "      <td>0.000000</td>\n",
       "    </tr>\n",
       "    <tr>\n",
       "      <th>Top_Status</th>\n",
       "      <td>0</td>\n",
       "      <td>0.000000</td>\n",
       "    </tr>\n",
       "    <tr>\n",
       "      <th>Work_Details_Carried_Out</th>\n",
       "      <td>0</td>\n",
       "      <td>0.000000</td>\n",
       "    </tr>\n",
       "    <tr>\n",
       "      <th>Final_Conclusion</th>\n",
       "      <td>0</td>\n",
       "      <td>0.000000</td>\n",
       "    </tr>\n",
       "    <tr>\n",
       "      <th>Observations</th>\n",
       "      <td>0</td>\n",
       "      <td>0.000000</td>\n",
       "    </tr>\n",
       "    <tr>\n",
       "      <th>Transformer_being_removed_on</th>\n",
       "      <td>0</td>\n",
       "      <td>0.000000</td>\n",
       "    </tr>\n",
       "    <tr>\n",
       "      <th>WO_No</th>\n",
       "      <td>0</td>\n",
       "      <td>0.000000</td>\n",
       "    </tr>\n",
       "    <tr>\n",
       "      <th>Rated_Power</th>\n",
       "      <td>0</td>\n",
       "      <td>0.000000</td>\n",
       "    </tr>\n",
       "    <tr>\n",
       "      <th>Transformer_Repaired_By_TSW</th>\n",
       "      <td>0</td>\n",
       "      <td>0.000000</td>\n",
       "    </tr>\n",
       "    <tr>\n",
       "      <th>BLUE_PHASE_LOADING</th>\n",
       "      <td>0</td>\n",
       "      <td>0.000000</td>\n",
       "    </tr>\n",
       "    <tr>\n",
       "      <th>YELLOW_PHASE_LOADING</th>\n",
       "      <td>0</td>\n",
       "      <td>0.000000</td>\n",
       "    </tr>\n",
       "    <tr>\n",
       "      <th>RED_PHASE_LOADING</th>\n",
       "      <td>0</td>\n",
       "      <td>0.000000</td>\n",
       "    </tr>\n",
       "    <tr>\n",
       "      <th>Max._Allowable_Loading_Per_Phase</th>\n",
       "      <td>0</td>\n",
       "      <td>0.000000</td>\n",
       "    </tr>\n",
       "    <tr>\n",
       "      <th>CLUSTER</th>\n",
       "      <td>0</td>\n",
       "      <td>0.000000</td>\n",
       "    </tr>\n",
       "    <tr>\n",
       "      <th>REGION</th>\n",
       "      <td>0</td>\n",
       "      <td>0.000000</td>\n",
       "    </tr>\n",
       "    <tr>\n",
       "      <th>DTS_ID</th>\n",
       "      <td>0</td>\n",
       "      <td>0.000000</td>\n",
       "    </tr>\n",
       "    <tr>\n",
       "      <th>Faulty_Transformer_Date</th>\n",
       "      <td>0</td>\n",
       "      <td>0.000000</td>\n",
       "    </tr>\n",
       "    <tr>\n",
       "      <th>Make</th>\n",
       "      <td>0</td>\n",
       "      <td>0.000000</td>\n",
       "    </tr>\n",
       "    <tr>\n",
       "      <th>Capacity\\n(KVA)</th>\n",
       "      <td>0</td>\n",
       "      <td>0.000000</td>\n",
       "    </tr>\n",
       "    <tr>\n",
       "      <th>Transformer_Number</th>\n",
       "      <td>0</td>\n",
       "      <td>0.000000</td>\n",
       "    </tr>\n",
       "    <tr>\n",
       "      <th>Avg_loading_per_phase</th>\n",
       "      <td>0</td>\n",
       "      <td>0.000000</td>\n",
       "    </tr>\n",
       "  </tbody>\n",
       "</table>\n",
       "</div>"
      ],
      "text/plain": [
       "                                       Total   Percent\n",
       "Average_laoding_greater_than_max_flag   5314  1.000000\n",
       "Issuance_Date                           4844  0.911554\n",
       "FDF_ID.                                 1864  0.350772\n",
       "Date_of_Transformer_Approved            1444  0.271735\n",
       "Fault_Location                           329  0.061912\n",
       "Date_of_Transformer_Receipt               64  0.012044\n",
       "Max._oil_level_(Ltr.)                      0  0.000000\n",
       "Oil_Quantity                               0  0.000000\n",
       "Oil_%                                      0  0.000000\n",
       "TTR_Status                                 0  0.000000\n",
       "Tap_changer_status                         0  0.000000\n",
       "Silica_Gel_Status                          0  0.000000\n",
       "Oil_status                                 0  0.000000\n",
       "REMARKS                                    0  0.000000\n",
       "Conservator_Tank_Valve                     0  0.000000\n",
       "Top_Status                                 0  0.000000\n",
       "Work_Details_Carried_Out                   0  0.000000\n",
       "Final_Conclusion                           0  0.000000\n",
       "Observations                               0  0.000000\n",
       "Transformer_being_removed_on               0  0.000000\n",
       "WO_No                                      0  0.000000\n",
       "Rated_Power                                0  0.000000\n",
       "Transformer_Repaired_By_TSW                0  0.000000\n",
       "BLUE_PHASE_LOADING                         0  0.000000\n",
       "YELLOW_PHASE_LOADING                       0  0.000000\n",
       "RED_PHASE_LOADING                          0  0.000000\n",
       "Max._Allowable_Loading_Per_Phase           0  0.000000\n",
       "CLUSTER                                    0  0.000000\n",
       "REGION                                     0  0.000000\n",
       "DTS_ID                                     0  0.000000\n",
       "Faulty_Transformer_Date                    0  0.000000\n",
       "Make                                       0  0.000000\n",
       "Capacity\\n(KVA)                            0  0.000000\n",
       "Transformer_Number                         0  0.000000\n",
       "Avg_loading_per_phase                      0  0.000000"
      ]
     },
     "execution_count": 28,
     "metadata": {},
     "output_type": "execute_result"
    }
   ],
   "source": [
    "# missing data\n",
    "total = df.isnull().sum().sort_values(ascending=False)\n",
    "percent = (df.isnull().sum()/df.isnull().count()).sort_values(ascending=False)\n",
    "missing_data = pd.concat([total, percent], axis=1, keys=['Total', 'Percent'])\n",
    "missing_data.head(35)"
   ]
  },
  {
   "cell_type": "code",
   "execution_count": 31,
   "id": "1470dd21",
   "metadata": {},
   "outputs": [
    {
     "data": {
      "text/plain": [
       "Text(0.5, 1.0, 'Transformers faults categorized from 2017-2021')"
      ]
     },
     "execution_count": 31,
     "metadata": {},
     "output_type": "execute_result"
    },
    {
     "data": {
      "image/png": "[encoded data removed]",
      "text/plain": [
       "<Figure size 864x720 with 1 Axes>"
      ]
     },
     "metadata": {},
     "output_type": "display_data"
    }
   ],
   "source": [
    "plt.figure(figsize=(12, 10))\n",
    "ax=sns.histplot(df.Final_Conclusion,)\n",
    "plt.xticks(rotation=45,ha='right')\n",
    "for p in ax.patches:\n",
    "    ax.annotate(str(p.get_height()), (p.get_x() * 1, p.get_height() * 1))\n",
    "plt.title('Transformers faults categorized from 2017-2021')"
   ]
  },
  {
   "cell_type": "code",
   "execution_count": 32,
   "id": "b4d4fa7c",
   "metadata": {},
   "outputs": [
    {
     "data": {
      "text/plain": [
       "<AxesSubplot:>"
      ]
     },
     "execution_count": 32,
     "metadata": {},
     "output_type": "execute_result"
    },
    {
     "data": {
      "image/png": "[encoded data removed]",
      "text/plain": [
       "<Figure size 864x648 with 2 Axes>"
      ]
     },
     "metadata": {},
     "output_type": "display_data"
    }
   ],
   "source": [
    "#correlation matrix\n",
    "corrmat = df.corr()\n",
    "f, ax = plt.subplots(figsize=(12, 9))\n",
    "sns.heatmap(corrmat, vmax=.8, square=True,cmap=\"RdYlGn_r\")\n"
   ]
  },
  {
   "cell_type": "code",
   "execution_count": 92,
   "id": "529fba6b",
   "metadata": {},
   "outputs": [
    {
     "data": {
      "text/html": [
       "<div>\n",
       "<style scoped>\n",
       "    .dataframe tbody tr th:only-of-type {\n",
       "        vertical-align: middle;\n",
       "    }\n",
       "\n",
       "    .dataframe tbody tr th {\n",
       "        vertical-align: top;\n",
       "    }\n",
       "\n",
       "    .dataframe thead th {\n",
       "        text-align: right;\n",
       "    }\n",
       "</style>\n",
       "<table border=\"1\" class=\"dataframe\">\n",
       "  <thead>\n",
       "    <tr style=\"text-align: right;\">\n",
       "      <th></th>\n",
       "      <th>Capacity\\n(KVA)</th>\n",
       "      <th>Make</th>\n",
       "      <th>Faulty_Transformer_Date</th>\n",
       "      <th>REGION</th>\n",
       "      <th>CLUSTER</th>\n",
       "      <th>Max._Allowable_Loading_Per_Phase</th>\n",
       "      <th>Transformer_Repaired_By_TSW</th>\n",
       "      <th>REMARKS</th>\n",
       "      <th>Transformer_being_removed_on</th>\n",
       "      <th>Oil_%</th>\n",
       "      <th>TTR_Status</th>\n",
       "      <th>Tap_changer_status</th>\n",
       "      <th>Oil_status</th>\n",
       "      <th>Silica_Gel_Status</th>\n",
       "      <th>Conservator_Tank_Valve</th>\n",
       "      <th>Top_Status</th>\n",
       "      <th>Work_Details_Carried_Out</th>\n",
       "      <th>Observations</th>\n",
       "      <th>Avg_loading_per_phase</th>\n",
       "    </tr>\n",
       "  </thead>\n",
       "  <tbody>\n",
       "    <tr>\n",
       "      <th>0</th>\n",
       "      <td>50</td>\n",
       "      <td>SIEMENS</td>\n",
       "      <td>12</td>\n",
       "      <td>R4</td>\n",
       "      <td>CN</td>\n",
       "      <td>69.444444</td>\n",
       "      <td>NO</td>\n",
       "      <td>MISSING/UNINTELLIGIBLE</td>\n",
       "      <td>MISSING/UNINTELLIGIBLE</td>\n",
       "      <td>0.640000</td>\n",
       "      <td>OK</td>\n",
       "      <td>A</td>\n",
       "      <td>C</td>\n",
       "      <td>Not Available</td>\n",
       "      <td>Not Available</td>\n",
       "      <td>C</td>\n",
       "      <td>Minor Repair</td>\n",
       "      <td>Low oil level</td>\n",
       "      <td>204.719945</td>\n",
       "    </tr>\n",
       "    <tr>\n",
       "      <th>1</th>\n",
       "      <td>100</td>\n",
       "      <td>P/POWER</td>\n",
       "      <td>08</td>\n",
       "      <td>R3</td>\n",
       "      <td>CJ</td>\n",
       "      <td>138.888889</td>\n",
       "      <td>YES</td>\n",
       "      <td>LINK BLOWN OUT</td>\n",
       "      <td>FAULT</td>\n",
       "      <td>0.852381</td>\n",
       "      <td>R,FAULTY</td>\n",
       "      <td>A</td>\n",
       "      <td>C</td>\n",
       "      <td>Not Available</td>\n",
       "      <td>Not Available</td>\n",
       "      <td>B</td>\n",
       "      <td>RYB, HT &amp; LT CHANGED</td>\n",
       "      <td>FDF NA (Fault cannot be determined)</td>\n",
       "      <td>131.000000</td>\n",
       "    </tr>\n",
       "    <tr>\n",
       "      <th>2</th>\n",
       "      <td>250</td>\n",
       "      <td>J&amp;P</td>\n",
       "      <td>12</td>\n",
       "      <td>R2</td>\n",
       "      <td>CS</td>\n",
       "      <td>347.222222</td>\n",
       "      <td>NO</td>\n",
       "      <td>OIL LEAKAGE</td>\n",
       "      <td>PROACTIVE MAINTENANCE</td>\n",
       "      <td>0.602353</td>\n",
       "      <td>3,FAULTY</td>\n",
       "      <td>A</td>\n",
       "      <td>C</td>\n",
       "      <td>D</td>\n",
       "      <td>A</td>\n",
       "      <td>B</td>\n",
       "      <td>RYB, HT &amp; LT CHANGED</td>\n",
       "      <td>FDF NA (Fault cannot be determined)</td>\n",
       "      <td>270.666667</td>\n",
       "    </tr>\n",
       "    <tr>\n",
       "      <th>3</th>\n",
       "      <td>250</td>\n",
       "      <td>CLIMAX</td>\n",
       "      <td>10</td>\n",
       "      <td>R2</td>\n",
       "      <td>CS</td>\n",
       "      <td>347.222222</td>\n",
       "      <td>NO</td>\n",
       "      <td>OIL LEAKAGE</td>\n",
       "      <td>PROACTIVE MAINTENANCE</td>\n",
       "      <td>0.602353</td>\n",
       "      <td>3,FAULTY</td>\n",
       "      <td>A</td>\n",
       "      <td>C</td>\n",
       "      <td>D</td>\n",
       "      <td>A</td>\n",
       "      <td>B</td>\n",
       "      <td>RYB, HT &amp; LT CHANGED</td>\n",
       "      <td>FDF NA (Fault cannot be determined)</td>\n",
       "      <td>117.666667</td>\n",
       "    </tr>\n",
       "    <tr>\n",
       "      <th>4</th>\n",
       "      <td>500</td>\n",
       "      <td>CLIMAX</td>\n",
       "      <td>12</td>\n",
       "      <td>R1</td>\n",
       "      <td>CO</td>\n",
       "      <td>694.444444</td>\n",
       "      <td>NO</td>\n",
       "      <td>OIL LEAKAGE</td>\n",
       "      <td>FAULT</td>\n",
       "      <td>0.347222</td>\n",
       "      <td>OK</td>\n",
       "      <td>A</td>\n",
       "      <td>C</td>\n",
       "      <td>D</td>\n",
       "      <td>A</td>\n",
       "      <td>B</td>\n",
       "      <td>RYB, HT &amp; LT CHANGED</td>\n",
       "      <td>FDF NA (Fault cannot be determined)</td>\n",
       "      <td>171.105263</td>\n",
       "    </tr>\n",
       "  </tbody>\n",
       "</table>\n",
       "</div>"
      ],
      "text/plain": [
       "   Capacity\\n(KVA)     Make Faulty_Transformer_Date REGION CLUSTER  \\\n",
       "0               50  SIEMENS                      12     R4      CN   \n",
       "1              100  P/POWER                      08     R3      CJ   \n",
       "2              250      J&P                      12     R2      CS   \n",
       "3              250   CLIMAX                      10     R2      CS   \n",
       "4              500   CLIMAX                      12     R1      CO   \n",
       "\n",
       "   Max._Allowable_Loading_Per_Phase Transformer_Repaired_By_TSW  \\\n",
       "0                         69.444444                          NO   \n",
       "1                        138.888889                         YES   \n",
       "2                        347.222222                          NO   \n",
       "3                        347.222222                          NO   \n",
       "4                        694.444444                          NO   \n",
       "\n",
       "                  REMARKS Transformer_being_removed_on     Oil_% TTR_Status  \\\n",
       "0  MISSING/UNINTELLIGIBLE       MISSING/UNINTELLIGIBLE  0.640000         OK   \n",
       "1          LINK BLOWN OUT                        FAULT  0.852381   R,FAULTY   \n",
       "2             OIL LEAKAGE        PROACTIVE MAINTENANCE  0.602353   3,FAULTY   \n",
       "3             OIL LEAKAGE        PROACTIVE MAINTENANCE  0.602353   3,FAULTY   \n",
       "4             OIL LEAKAGE                        FAULT  0.347222         OK   \n",
       "\n",
       "  Tap_changer_status Oil_status Silica_Gel_Status Conservator_Tank_Valve  \\\n",
       "0                  A          C     Not Available          Not Available   \n",
       "1                  A          C     Not Available          Not Available   \n",
       "2                  A          C                 D                      A   \n",
       "3                  A          C                 D                      A   \n",
       "4                  A          C                 D                      A   \n",
       "\n",
       "  Top_Status Work_Details_Carried_Out                         Observations  \\\n",
       "0          C             Minor Repair                        Low oil level   \n",
       "1          B     RYB, HT & LT CHANGED  FDF NA (Fault cannot be determined)   \n",
       "2          B     RYB, HT & LT CHANGED  FDF NA (Fault cannot be determined)   \n",
       "3          B     RYB, HT & LT CHANGED  FDF NA (Fault cannot be determined)   \n",
       "4          B     RYB, HT & LT CHANGED  FDF NA (Fault cannot be determined)   \n",
       "\n",
       "   Avg_loading_per_phase  \n",
       "0             204.719945  \n",
       "1             131.000000  \n",
       "2             270.666667  \n",
       "3             117.666667  \n",
       "4             171.105263  "
      ]
     },
     "execution_count": 92,
     "metadata": {},
     "output_type": "execute_result"
    }
   ],
   "source": [
    "df.head()"
   ]
  },
  {
   "cell_type": "code",
   "execution_count": null,
   "id": "fd0ddf08",
   "metadata": {},
   "outputs": [],
   "source": []
  },
  {
   "cell_type": "code",
   "execution_count": 36,
   "id": "4315f209",
   "metadata": {},
   "outputs": [],
   "source": [
    "################################################\n",
    "\n",
    "X_train, X_test, y_train, y_test = pr.get_train_test(df)"
   ]
  },
  {
   "cell_type": "code",
   "execution_count": 39,
   "id": "21497f8b",
   "metadata": {},
   "outputs": [],
   "source": [
    "from sklearn.metrics import confusion_matrix\n",
    "#from sklearn.model_selection import train_test_split"
   ]
  },
  {
   "cell_type": "code",
   "execution_count": 40,
   "id": "2445161c",
   "metadata": {},
   "outputs": [],
   "source": [
    "num_feats = pr.get_num_feats(df)"
   ]
  },
  {
   "cell_type": "code",
   "execution_count": 41,
   "id": "eff80d41",
   "metadata": {},
   "outputs": [],
   "source": [
    "cat_feats=pr.get_cat_feats(df)"
   ]
  },
  {
   "cell_type": "code",
   "execution_count": 43,
   "id": "21acb932",
   "metadata": {},
   "outputs": [],
   "source": [
    "from sklearn.pipeline import Pipeline\n",
    "from sklearn.compose import ColumnTransformer\n",
    "from sklearn.preprocessing import OneHotEncoder\n",
    "from sklearn.preprocessing import StandardScaler\n",
    "from sklearn.svm import SVC\n",
    "from sklearn.model_selection import GridSearchCV\n",
    "from sklearn.ensemble import RandomForestClassifier"
   ]
  },
  {
   "cell_type": "code",
   "execution_count": 44,
   "id": "2dfe14c5",
   "metadata": {},
   "outputs": [],
   "source": [
    "numeric_transform = Pipeline([('scaling', StandardScaler()),])\n",
    "\n",
    "categorical_transform = Pipeline([('one-hot-encode', OneHotEncoder(sparse=False))])\n",
    "\n",
    "preprocessing_df = ColumnTransformer([('numeric', numeric_transform, num_feats), \n",
    "                                    ('categorical', categorical_transform, cat_feats)])"
   ]
  },
  {
   "cell_type": "code",
   "execution_count": 45,
   "id": "162a57c5",
   "metadata": {},
   "outputs": [],
   "source": [
    "pipeline = Pipeline([('preprocessing', preprocessing_df),\n",
    "                     #('pca', PCA(n_components=10)),\n",
    "                     ('model',RandomForestClassifier(max_depth=6, random_state=0))])"
   ]
  },
  {
   "cell_type": "code",
   "execution_count": 46,
   "id": "b52a67f7",
   "metadata": {},
   "outputs": [
    {
     "name": "stdout",
     "output_type": "stream",
     "text": [
      "Best test set accuracy: 0.748824082784572\n",
      "Achieved with hyperparameters: {'model__max_depth': 13}\n"
     ]
    }
   ],
   "source": [
    "\n",
    "###########Random forest####################3\n",
    "param_grid = {#'model__kernel': ['linear','poly','rbf'],\n",
    "              'model__max_depth':[6,10,13]}\n",
    "              #'preprocessing__numeric__pca__n_components': [3, 5, 7],\n",
    "              #'preprocessing__categorical__select_best__k': [3,5,7]}\n",
    "\n",
    "grid = GridSearchCV(pipeline, param_grid=param_grid, cv=5)\n",
    "grid.fit(X_train, y_train)\n",
    "\n",
    "#best_model = grid.best_estimator_\n",
    "best_hyperparams = grid.best_params_\n",
    "best_acc = grid.score(X_test, y_test)\n",
    "print(f'Best test set accuracy: {best_acc}\\nAchieved with hyperparameters: {best_hyperparams}')"
   ]
  },
  {
   "cell_type": "code",
   "execution_count": 49,
   "id": "aa6d04d8",
   "metadata": {},
   "outputs": [
    {
     "data": {
      "text/plain": [
       "0.47130761994355597"
      ]
     },
     "execution_count": 49,
     "metadata": {},
     "output_type": "execute_result"
    }
   ],
   "source": [
    "###########################Majority Class Pred########\n",
    "from sklearn.dummy import DummyClassifier\n",
    "\n",
    "dummy_clf = DummyClassifier(strategy=\"most_frequent\")\n",
    "dummy_clf.fit(X_train, y_train)\n",
    "acc=dummy_clf.score(X_test, y_test)\n",
    "acc"
   ]
  },
  {
   "cell_type": "code",
   "execution_count": null,
   "id": "199f262f",
   "metadata": {},
   "outputs": [],
   "source": []
  },
  {
   "cell_type": "raw",
   "id": "7b0b4586",
   "metadata": {},
   "source": [
    "pipeline.fit(X_train, y_train)\n",
    "\n",
    "r2 = pipeline.score(X_test, y_test)\n",
    "print(f'Test set r^2: {r2}')"
   ]
  },
  {
   "cell_type": "code",
   "execution_count": null,
   "id": "9203cbbf",
   "metadata": {},
   "outputs": [],
   "source": [
    "from sklearn.model_selection import GridSearchCV\n"
   ]
  },
  {
   "cell_type": "raw",
   "id": "e689e4ba",
   "metadata": {},
   "source": [
    "#################################\n",
    "\n",
    "from sklearn.preprocessing import StandardScaler\n",
    "# \n",
    "scaler = StandardScaler()\n",
    "df_scaled = pd.DataFrame(scaler.fit_transform(df[num_feats].astype(float)))"
   ]
  },
  {
   "cell_type": "raw",
   "id": "d4974ed4",
   "metadata": {},
   "source": [
    "df_scaled.columns=num_feats"
   ]
  },
  {
   "cell_type": "raw",
   "id": "e1a4610c",
   "metadata": {},
   "source": [
    "df_dummy = pd.get_dummies(df[cat_feats])"
   ]
  },
  {
   "cell_type": "raw",
   "id": "5a8ab213",
   "metadata": {},
   "source": [
    "df=df_dummy.join(df_scaled)"
   ]
  },
  {
   "cell_type": "raw",
   "id": "5c7cd8e3",
   "metadata": {},
   "source": [
    "################"
   ]
  },
  {
   "cell_type": "raw",
   "id": "936d857f",
   "metadata": {},
   "source": [
    "from sklearn.tree import DecisionTreeClassifier\n",
    "dtree_model = DecisionTreeClassifier(max_depth = 5).fit(X_train, y_train)\n",
    "dtree_predictions = dtree_model.predict(X_test)"
   ]
  },
  {
   "cell_type": "raw",
   "id": "31045c9f",
   "metadata": {},
   "source": [
    "cm = confusion_matrix(y_test, dtree_predictions)"
   ]
  },
  {
   "cell_type": "raw",
   "id": "1a96f457",
   "metadata": {
    "scrolled": true
   },
   "source": [
    "cm"
   ]
  },
  {
   "cell_type": "raw",
   "id": "d33ff4f7",
   "metadata": {},
   "source": [
    "dtree_model.score(X_test,y_test)"
   ]
  },
  {
   "cell_type": "raw",
   "id": "09a0393f",
   "metadata": {},
   "source": [
    "dtree_model.score(X_test,y_test)"
   ]
  },
  {
   "cell_type": "code",
   "execution_count": 50,
   "id": "843c1805",
   "metadata": {},
   "outputs": [],
   "source": [
    "##############XGBoost#######\n",
    "\n",
    "import xgboost as xgb\n",
    "model = xgb.XGBClassifier()"
   ]
  },
  {
   "cell_type": "code",
   "execution_count": 51,
   "id": "80830d6f",
   "metadata": {},
   "outputs": [],
   "source": [
    "pipeline = Pipeline([('preprocessing', preprocessing_df),\n",
    "                     #('pca', PCA(n_components=10)),\n",
    "                     ('model',model)])"
   ]
  },
  {
   "cell_type": "code",
   "execution_count": 56,
   "id": "bfdbee5c",
   "metadata": {},
   "outputs": [
    {
     "name": "stdout",
     "output_type": "stream",
     "text": [
      "[23:45:35] WARNING: C:/Users/Administrator/workspace/xgboost-win64_release_1.5.1/src/learner.cc:1115: Starting in XGBoost 1.3.0, the default evaluation metric used with the objective 'multi:softprob' was changed from 'merror' to 'mlogloss'. Explicitly set eval_metric if you'd like to restore the old behavior.\n",
      "[23:45:47] WARNING: C:/Users/Administrator/workspace/xgboost-win64_release_1.5.1/src/learner.cc:1115: Starting in XGBoost 1.3.0, the default evaluation metric used with the objective 'multi:softprob' was changed from 'merror' to 'mlogloss'. Explicitly set eval_metric if you'd like to restore the old behavior.\n",
      "[23:46:02] WARNING: C:/Users/Administrator/workspace/xgboost-win64_release_1.5.1/src/learner.cc:1115: Starting in XGBoost 1.3.0, the default evaluation metric used with the objective 'multi:softprob' was changed from 'merror' to 'mlogloss'. Explicitly set eval_metric if you'd like to restore the old behavior.\n",
      "[23:46:12] WARNING: C:/Users/Administrator/workspace/xgboost-win64_release_1.5.1/src/learner.cc:1115: Starting in XGBoost 1.3.0, the default evaluation metric used with the objective 'multi:softprob' was changed from 'merror' to 'mlogloss'. Explicitly set eval_metric if you'd like to restore the old behavior.\n",
      "[23:46:22] WARNING: C:/Users/Administrator/workspace/xgboost-win64_release_1.5.1/src/learner.cc:1115: Starting in XGBoost 1.3.0, the default evaluation metric used with the objective 'multi:softprob' was changed from 'merror' to 'mlogloss'. Explicitly set eval_metric if you'd like to restore the old behavior.\n",
      "[23:46:32] WARNING: C:/Users/Administrator/workspace/xgboost-win64_release_1.5.1/src/learner.cc:1115: Starting in XGBoost 1.3.0, the default evaluation metric used with the objective 'multi:softprob' was changed from 'merror' to 'mlogloss'. Explicitly set eval_metric if you'd like to restore the old behavior.\n",
      "[23:46:49] WARNING: C:/Users/Administrator/workspace/xgboost-win64_release_1.5.1/src/learner.cc:1115: Starting in XGBoost 1.3.0, the default evaluation metric used with the objective 'multi:softprob' was changed from 'merror' to 'mlogloss'. Explicitly set eval_metric if you'd like to restore the old behavior.\n",
      "[23:47:07] WARNING: C:/Users/Administrator/workspace/xgboost-win64_release_1.5.1/src/learner.cc:1115: Starting in XGBoost 1.3.0, the default evaluation metric used with the objective 'multi:softprob' was changed from 'merror' to 'mlogloss'. Explicitly set eval_metric if you'd like to restore the old behavior.\n",
      "[23:47:25] WARNING: C:/Users/Administrator/workspace/xgboost-win64_release_1.5.1/src/learner.cc:1115: Starting in XGBoost 1.3.0, the default evaluation metric used with the objective 'multi:softprob' was changed from 'merror' to 'mlogloss'. Explicitly set eval_metric if you'd like to restore the old behavior.\n",
      "[23:47:42] WARNING: C:/Users/Administrator/workspace/xgboost-win64_release_1.5.1/src/learner.cc:1115: Starting in XGBoost 1.3.0, the default evaluation metric used with the objective 'multi:softprob' was changed from 'merror' to 'mlogloss'. Explicitly set eval_metric if you'd like to restore the old behavior.\n",
      "[23:48:02] WARNING: C:/Users/Administrator/workspace/xgboost-win64_release_1.5.1/src/learner.cc:1115: Starting in XGBoost 1.3.0, the default evaluation metric used with the objective 'multi:softprob' was changed from 'merror' to 'mlogloss'. Explicitly set eval_metric if you'd like to restore the old behavior.\n",
      "[23:48:14] WARNING: C:/Users/Administrator/workspace/xgboost-win64_release_1.5.1/src/learner.cc:1115: Starting in XGBoost 1.3.0, the default evaluation metric used with the objective 'multi:softprob' was changed from 'merror' to 'mlogloss'. Explicitly set eval_metric if you'd like to restore the old behavior.\n",
      "[23:48:27] WARNING: C:/Users/Administrator/workspace/xgboost-win64_release_1.5.1/src/learner.cc:1115: Starting in XGBoost 1.3.0, the default evaluation metric used with the objective 'multi:softprob' was changed from 'merror' to 'mlogloss'. Explicitly set eval_metric if you'd like to restore the old behavior.\n",
      "[23:48:39] WARNING: C:/Users/Administrator/workspace/xgboost-win64_release_1.5.1/src/learner.cc:1115: Starting in XGBoost 1.3.0, the default evaluation metric used with the objective 'multi:softprob' was changed from 'merror' to 'mlogloss'. Explicitly set eval_metric if you'd like to restore the old behavior.\n",
      "[23:48:57] WARNING: C:/Users/Administrator/workspace/xgboost-win64_release_1.5.1/src/learner.cc:1115: Starting in XGBoost 1.3.0, the default evaluation metric used with the objective 'multi:softprob' was changed from 'merror' to 'mlogloss'. Explicitly set eval_metric if you'd like to restore the old behavior.\n",
      "[23:49:17] WARNING: C:/Users/Administrator/workspace/xgboost-win64_release_1.5.1/src/learner.cc:1115: Starting in XGBoost 1.3.0, the default evaluation metric used with the objective 'multi:softprob' was changed from 'merror' to 'mlogloss'. Explicitly set eval_metric if you'd like to restore the old behavior.\n",
      "[23:49:41] WARNING: C:/Users/Administrator/workspace/xgboost-win64_release_1.5.1/src/learner.cc:1115: Starting in XGBoost 1.3.0, the default evaluation metric used with the objective 'multi:softprob' was changed from 'merror' to 'mlogloss'. Explicitly set eval_metric if you'd like to restore the old behavior.\n",
      "[23:50:03] WARNING: C:/Users/Administrator/workspace/xgboost-win64_release_1.5.1/src/learner.cc:1115: Starting in XGBoost 1.3.0, the default evaluation metric used with the objective 'multi:softprob' was changed from 'merror' to 'mlogloss'. Explicitly set eval_metric if you'd like to restore the old behavior.\n",
      "[23:50:24] WARNING: C:/Users/Administrator/workspace/xgboost-win64_release_1.5.1/src/learner.cc:1115: Starting in XGBoost 1.3.0, the default evaluation metric used with the objective 'multi:softprob' was changed from 'merror' to 'mlogloss'. Explicitly set eval_metric if you'd like to restore the old behavior.\n",
      "[23:50:46] WARNING: C:/Users/Administrator/workspace/xgboost-win64_release_1.5.1/src/learner.cc:1115: Starting in XGBoost 1.3.0, the default evaluation metric used with the objective 'multi:softprob' was changed from 'merror' to 'mlogloss'. Explicitly set eval_metric if you'd like to restore the old behavior.\n",
      "[23:51:10] WARNING: C:/Users/Administrator/workspace/xgboost-win64_release_1.5.1/src/learner.cc:1115: Starting in XGBoost 1.3.0, the default evaluation metric used with the objective 'multi:softprob' was changed from 'merror' to 'mlogloss'. Explicitly set eval_metric if you'd like to restore the old behavior.\n",
      "[23:51:22] WARNING: C:/Users/Administrator/workspace/xgboost-win64_release_1.5.1/src/learner.cc:1115: Starting in XGBoost 1.3.0, the default evaluation metric used with the objective 'multi:softprob' was changed from 'merror' to 'mlogloss'. Explicitly set eval_metric if you'd like to restore the old behavior.\n",
      "[23:51:34] WARNING: C:/Users/Administrator/workspace/xgboost-win64_release_1.5.1/src/learner.cc:1115: Starting in XGBoost 1.3.0, the default evaluation metric used with the objective 'multi:softprob' was changed from 'merror' to 'mlogloss'. Explicitly set eval_metric if you'd like to restore the old behavior.\n",
      "[23:51:46] WARNING: C:/Users/Administrator/workspace/xgboost-win64_release_1.5.1/src/learner.cc:1115: Starting in XGBoost 1.3.0, the default evaluation metric used with the objective 'multi:softprob' was changed from 'merror' to 'mlogloss'. Explicitly set eval_metric if you'd like to restore the old behavior.\n",
      "[23:51:58] WARNING: C:/Users/Administrator/workspace/xgboost-win64_release_1.5.1/src/learner.cc:1115: Starting in XGBoost 1.3.0, the default evaluation metric used with the objective 'multi:softprob' was changed from 'merror' to 'mlogloss'. Explicitly set eval_metric if you'd like to restore the old behavior.\n",
      "[23:52:10] WARNING: C:/Users/Administrator/workspace/xgboost-win64_release_1.5.1/src/learner.cc:1115: Starting in XGBoost 1.3.0, the default evaluation metric used with the objective 'multi:softprob' was changed from 'merror' to 'mlogloss'. Explicitly set eval_metric if you'd like to restore the old behavior.\n",
      "[23:52:30] WARNING: C:/Users/Administrator/workspace/xgboost-win64_release_1.5.1/src/learner.cc:1115: Starting in XGBoost 1.3.0, the default evaluation metric used with the objective 'multi:softprob' was changed from 'merror' to 'mlogloss'. Explicitly set eval_metric if you'd like to restore the old behavior.\n"
     ]
    },
    {
     "name": "stdout",
     "output_type": "stream",
     "text": [
      "[23:52:51] WARNING: C:/Users/Administrator/workspace/xgboost-win64_release_1.5.1/src/learner.cc:1115: Starting in XGBoost 1.3.0, the default evaluation metric used with the objective 'multi:softprob' was changed from 'merror' to 'mlogloss'. Explicitly set eval_metric if you'd like to restore the old behavior.\n",
      "[23:53:11] WARNING: C:/Users/Administrator/workspace/xgboost-win64_release_1.5.1/src/learner.cc:1115: Starting in XGBoost 1.3.0, the default evaluation metric used with the objective 'multi:softprob' was changed from 'merror' to 'mlogloss'. Explicitly set eval_metric if you'd like to restore the old behavior.\n",
      "[23:53:31] WARNING: C:/Users/Administrator/workspace/xgboost-win64_release_1.5.1/src/learner.cc:1115: Starting in XGBoost 1.3.0, the default evaluation metric used with the objective 'multi:softprob' was changed from 'merror' to 'mlogloss'. Explicitly set eval_metric if you'd like to restore the old behavior.\n",
      "[23:53:52] WARNING: C:/Users/Administrator/workspace/xgboost-win64_release_1.5.1/src/learner.cc:1115: Starting in XGBoost 1.3.0, the default evaluation metric used with the objective 'multi:softprob' was changed from 'merror' to 'mlogloss'. Explicitly set eval_metric if you'd like to restore the old behavior.\n"
     ]
    },
    {
     "data": {
      "text/plain": [
       "GridSearchCV(cv=5,\n",
       "             estimator=Pipeline(steps=[('preprocessing',\n",
       "                                        ColumnTransformer(transformers=[('numeric',\n",
       "                                                                         Pipeline(steps=[('scaling',\n",
       "                                                                                          StandardScaler())]),\n",
       "                                                                         ['Capacity\\n'\n",
       "                                                                          '(KVA)',\n",
       "                                                                          'Max._Allowable_Loading_Per_Phase',\n",
       "                                                                          'Oil_%',\n",
       "                                                                          'Avg_loading_per_phase']),\n",
       "                                                                        ('categorical',\n",
       "                                                                         Pipeline(steps=[('one-hot-encode',\n",
       "                                                                                          OneHotEncoder(sparse=False))]),\n",
       "                                                                         ['Make',\n",
       "                                                                          'Faulty_Transformer_D...\n",
       "                                                      max_depth=None,\n",
       "                                                      min_child_weight=None,\n",
       "                                                      missing=nan,\n",
       "                                                      monotone_constraints=None,\n",
       "                                                      n_estimators=100,\n",
       "                                                      n_jobs=None,\n",
       "                                                      num_parallel_tree=None,\n",
       "                                                      predictor=None,\n",
       "                                                      random_state=None,\n",
       "                                                      reg_alpha=None,\n",
       "                                                      reg_lambda=None,\n",
       "                                                      scale_pos_weight=None,\n",
       "                                                      subsample=None,\n",
       "                                                      tree_method=None,\n",
       "                                                      validate_parameters=None,\n",
       "                                                      verbosity=None))]),\n",
       "             param_grid={'model__max_depth': [10, 12, 15],\n",
       "                         'model__n_estimators': [50, 100]})"
      ]
     },
     "execution_count": 56,
     "metadata": {},
     "output_type": "execute_result"
    }
   ],
   "source": [
    "\n",
    "param_grid = {'model__max_depth': [10, 12, 15],\n",
    "              'model__n_estimators': [50, 100]}\n",
    "\n",
    "\n",
    "grid = GridSearchCV(pipeline, param_grid=param_grid, cv=5)\n",
    "grid.fit(X_train, y_train)\n",
    "\n"
   ]
  },
  {
   "cell_type": "code",
   "execution_count": 58,
   "id": "acaa1fff",
   "metadata": {},
   "outputs": [
    {
     "name": "stdout",
     "output_type": "stream",
     "text": [
      "Mean CV score:  0.761705\n",
      "Best test set accuracy: 0.7666980244590781\n",
      "Achieved with hyperparameters: {'model__max_depth': 12, 'model__n_estimators': 100}\n"
     ]
    }
   ],
   "source": [
    "#best_model = grid.best_estimator_\n",
    "best_acc = grid.score(X_test, y_test)\n",
    "best_hyperparams = grid.best_params_\n",
    "mean_score = grid.cv_results_[\"mean_test_score\"][grid.best_index_]\n",
    "print(f\"Mean CV score: {mean_score: .6f}\")\n",
    "print(f'Best test set accuracy: {best_acc}\\nAchieved with hyperparameters: {best_hyperparams}')"
   ]
  },
  {
   "cell_type": "code",
   "execution_count": 60,
   "id": "c312689e",
   "metadata": {},
   "outputs": [],
   "source": [
    "######SVC#####\n",
    "\n",
    "from sklearn.svm import SVC\n",
    "svm_model=SVC()"
   ]
  },
  {
   "cell_type": "code",
   "execution_count": 61,
   "id": "405a8c08",
   "metadata": {},
   "outputs": [],
   "source": [
    "pipeline_svm = Pipeline([('preprocessing', preprocessing_df),\n",
    "                     #('pca', PCA(n_components=10)),\n",
    "                     ('model',svm_model)])"
   ]
  },
  {
   "cell_type": "code",
   "execution_count": 62,
   "id": "6da74646",
   "metadata": {},
   "outputs": [
    {
     "data": {
      "text/plain": [
       "Pipeline(steps=[('preprocessing',\n",
       "                 ColumnTransformer(transformers=[('numeric',\n",
       "                                                  Pipeline(steps=[('scaling',\n",
       "                                                                   StandardScaler())]),\n",
       "                                                  ['Capacity\\n(KVA)',\n",
       "                                                   'Max._Allowable_Loading_Per_Phase',\n",
       "                                                   'Oil_%',\n",
       "                                                   'Avg_loading_per_phase']),\n",
       "                                                 ('categorical',\n",
       "                                                  Pipeline(steps=[('one-hot-encode',\n",
       "                                                                   OneHotEncoder(sparse=False))]),\n",
       "                                                  ['Make',\n",
       "                                                   'Faulty_Transformer_Date',\n",
       "                                                   'REGION', 'CLUSTER',\n",
       "                                                   'Transformer_Repaired_By_TSW',\n",
       "                                                   'REMARKS',\n",
       "                                                   'Transformer_being_removed_on',\n",
       "                                                   'TTR_Status',\n",
       "                                                   'Tap_changer_status',\n",
       "                                                   'Oil_status',\n",
       "                                                   'Silica_Gel_Status',\n",
       "                                                   'Conservator_Tank_Valve',\n",
       "                                                   'Top_Status',\n",
       "                                                   'Work_Details_Carried_Out',\n",
       "                                                   'Observations'])])),\n",
       "                ('model', SVC())])"
      ]
     },
     "execution_count": 62,
     "metadata": {},
     "output_type": "execute_result"
    }
   ],
   "source": [
    "\n",
    "pipeline_svm.fit(X_train, y_train)\n",
    "\n"
   ]
  },
  {
   "cell_type": "code",
   "execution_count": 66,
   "id": "9e6e539c",
   "metadata": {},
   "outputs": [
    {
     "name": "stdout",
     "output_type": "stream",
     "text": [
      "Best test set accuracy: 0.7525870178739417\n"
     ]
    }
   ],
   "source": [
    "#best_model = grid.best_estimator_\n",
    "best_acc = pipeline_svm.score(X_test, y_test)\n",
    "#best_hyperparams = grid_svm.best_params_\n",
    "print(f'Best test set accuracy: {best_acc}')"
   ]
  },
  {
   "cell_type": "code",
   "execution_count": 68,
   "id": "efe34813",
   "metadata": {},
   "outputs": [],
   "source": [
    "###############3kNN################\n",
    "\n",
    "from sklearn.neighbors import KNeighborsClassifier\n",
    "knn = KNeighborsClassifier()"
   ]
  },
  {
   "cell_type": "code",
   "execution_count": 69,
   "id": "179dcda8",
   "metadata": {},
   "outputs": [],
   "source": [
    "pipeline = Pipeline([('preprocessing', preprocessing_df),\n",
    "                     #('pca', PCA(n_components=10)),\n",
    "                     ('model',knn)])"
   ]
  },
  {
   "cell_type": "code",
   "execution_count": 71,
   "id": "dc7d0b2c",
   "metadata": {},
   "outputs": [
    {
     "data": {
      "text/plain": [
       "GridSearchCV(cv=5,\n",
       "             estimator=Pipeline(steps=[('preprocessing',\n",
       "                                        ColumnTransformer(transformers=[('numeric',\n",
       "                                                                         Pipeline(steps=[('scaling',\n",
       "                                                                                          StandardScaler())]),\n",
       "                                                                         ['Capacity\\n'\n",
       "                                                                          '(KVA)',\n",
       "                                                                          'Max._Allowable_Loading_Per_Phase',\n",
       "                                                                          'Oil_%',\n",
       "                                                                          'Avg_loading_per_phase']),\n",
       "                                                                        ('categorical',\n",
       "                                                                         Pipeline(steps=[('one-hot-encode',\n",
       "                                                                                          OneHotEncoder(sparse=False))]),\n",
       "                                                                         ['Make',\n",
       "                                                                          'Faulty_Transformer_Date',\n",
       "                                                                          'REGION',\n",
       "                                                                          'CLUSTER',\n",
       "                                                                          'Transformer_Repaired_By_TSW',\n",
       "                                                                          'REMARKS',\n",
       "                                                                          'Transformer_being_removed_on',\n",
       "                                                                          'TTR_Status',\n",
       "                                                                          'Tap_changer_status',\n",
       "                                                                          'Oil_status',\n",
       "                                                                          'Silica_Gel_Status',\n",
       "                                                                          'Conservator_Tank_Valve',\n",
       "                                                                          'Top_Status',\n",
       "                                                                          'Work_Details_Carried_Out',\n",
       "                                                                          'Observations'])])),\n",
       "                                       ('model', KNeighborsClassifier())]),\n",
       "             param_grid={'model__n_neighbors': [5, 10, 20]})"
      ]
     },
     "execution_count": 71,
     "metadata": {},
     "output_type": "execute_result"
    }
   ],
   "source": [
    "\n",
    "param_grid = {'model__n_neighbors': [5,10,20],\n",
    "              }\n",
    "\n",
    "\n",
    "grid_knn = GridSearchCV(pipeline, param_grid=param_grid, cv=5)\n",
    "grid_knn.fit(X_train, y_train)\n",
    "\n"
   ]
  },
  {
   "cell_type": "code",
   "execution_count": 72,
   "id": "dae90032",
   "metadata": {},
   "outputs": [
    {
     "name": "stdout",
     "output_type": "stream",
     "text": [
      "Best test set accuracy: 0.6698024459078081\n",
      "Achieved with hyperparameters: {'model__n_neighbors': 10}\n"
     ]
    }
   ],
   "source": [
    "#best_model = grid.best_estimator_\n",
    "best_acc = grid_knn.score(X_test, y_test)\n",
    "best_hyperparams = grid_knn.best_params_\n",
    "#mean_score = grid.cv_results_[\"mean_test_score\"][grid.best_index_]\n",
    "#print(f\"Mean CV score: {mean_score: .6f}\")\n",
    "print(f'Best test set accuracy: {best_acc}\\nAchieved with hyperparameters: {best_hyperparams}')"
   ]
  },
  {
   "cell_type": "code",
   "execution_count": null,
   "id": "5004f179",
   "metadata": {},
   "outputs": [],
   "source": []
  },
  {
   "cell_type": "code",
   "execution_count": 74,
   "id": "85550f8f",
   "metadata": {},
   "outputs": [],
   "source": [
    "###############3kNN################\n",
    "\n",
    "from sklearn.linear_model import LogisticRegression\n",
    "LR = LogisticRegression()"
   ]
  },
  {
   "cell_type": "code",
   "execution_count": 75,
   "id": "4cda8981",
   "metadata": {},
   "outputs": [],
   "source": [
    "pipeline = Pipeline([('preprocessing', preprocessing_df),\n",
    "                     #('pca', PCA(n_components=10)),\n",
    "                     ('model',LR)])"
   ]
  },
  {
   "cell_type": "code",
   "execution_count": 76,
   "id": "130cebef",
   "metadata": {},
   "outputs": [
    {
     "data": {
      "text/plain": [
       "GridSearchCV(cv=5,\n",
       "             estimator=Pipeline(steps=[('preprocessing',\n",
       "                                        ColumnTransformer(transformers=[('numeric',\n",
       "                                                                         Pipeline(steps=[('scaling',\n",
       "                                                                                          StandardScaler())]),\n",
       "                                                                         ['Capacity\\n'\n",
       "                                                                          '(KVA)',\n",
       "                                                                          'Max._Allowable_Loading_Per_Phase',\n",
       "                                                                          'Oil_%',\n",
       "                                                                          'Avg_loading_per_phase']),\n",
       "                                                                        ('categorical',\n",
       "                                                                         Pipeline(steps=[('one-hot-encode',\n",
       "                                                                                          OneHotEncoder(sparse=False))]),\n",
       "                                                                         ['Make',\n",
       "                                                                          'Faulty_Transformer_Date',\n",
       "                                                                          'REGION',\n",
       "                                                                          'CLUSTER',\n",
       "                                                                          'Transformer_Repaired_By_TSW',\n",
       "                                                                          'REMARKS',\n",
       "                                                                          'Transformer_being_removed_on',\n",
       "                                                                          'TTR_Status',\n",
       "                                                                          'Tap_changer_status',\n",
       "                                                                          'Oil_status',\n",
       "                                                                          'Silica_Gel_Status',\n",
       "                                                                          'Conservator_Tank_Valve',\n",
       "                                                                          'Top_Status',\n",
       "                                                                          'Work_Details_Carried_Out',\n",
       "                                                                          'Observations'])])),\n",
       "                                       ('model', LogisticRegression())]),\n",
       "             param_grid={'model__C': [1, 10, 100]})"
      ]
     },
     "execution_count": 76,
     "metadata": {},
     "output_type": "execute_result"
    }
   ],
   "source": [
    "\n",
    "param_grid = {'model__C': [1,10,100],\n",
    "              }\n",
    "\n",
    "\n",
    "grid_LR = GridSearchCV(pipeline, param_grid=param_grid, cv=5)\n",
    "grid_LR.fit(X_train, y_train)\n",
    "\n"
   ]
  },
  {
   "cell_type": "code",
   "execution_count": 77,
   "id": "965ed20d",
   "metadata": {},
   "outputs": [
    {
     "name": "stdout",
     "output_type": "stream",
     "text": [
      "Best test set accuracy: 0.7309501411100658\n",
      "Achieved with hyperparameters: {'model__C': 1}\n"
     ]
    }
   ],
   "source": [
    "#best_model = grid.best_estimator_\n",
    "best_acc = grid_LR.score(X_test, y_test)\n",
    "best_hyperparams = grid_LR.best_params_\n",
    "#mean_score = grid.cv_results_[\"mean_test_score\"][grid.best_index_]\n",
    "#print(f\"Mean CV score: {mean_score: .6f}\")\n",
    "print(f'Best test set accuracy: {best_acc}\\nAchieved with hyperparameters: {best_hyperparams}')"
   ]
  },
  {
   "cell_type": "code",
   "execution_count": 91,
   "id": "655aee29",
   "metadata": {},
   "outputs": [
    {
     "data": {
      "image/png": "[encoded data removed]",
      "text/plain": [
       "<Figure size 1080x576 with 1 Axes>"
      ]
     },
     "metadata": {},
     "output_type": "display_data"
    }
   ],
   "source": [
    "results=[0.471,0.669,0.731,0.749,0.752,0.767]\n",
    "names=['Majority Class Predictor', 'k-Nearest Neighbors (k=10)','Logistic Regression','Random Forest',\\\n",
    "       'Support Vector Classifier','XGBoost']\n",
    "\n",
    "\n",
    "fig = plt.figure(figsize=(15,8))\n",
    "fig.suptitle(\"Models' Accuracies on Test Data with 5-fold Cross-Validation\")\n",
    "ax = fig.add_subplot(111)\n",
    "plt.plot(names,results,'go-', linewidth=2, markersize=12)\n",
    "#ax.set_xticklabels(names)\n",
    "\n",
    "plt.xticks(rotation=45,ha='right')\n",
    "for i,j in zip(names,results):\n",
    "    ax.annotate('%s' %j, xy=(i,j), xytext=(30,0), textcoords='offset points')\n",
    "    #ax.annotate('(%s,' %i, xy=(i,j))\n",
    "#plt.title('Transformers faults categorized from 2017-2021')\n",
    "plt.xlabel('Model')\n",
    "plt.ylabel('Accuracy')\n",
    "plt.show()\n"
   ]
  },
  {
   "cell_type": "code",
   "execution_count": 100,
   "id": "c395fd1b",
   "metadata": {},
   "outputs": [],
   "source": [
    "#########################\n",
    "\n",
    "import pickle"
   ]
  },
  {
   "cell_type": "code",
   "execution_count": 101,
   "id": "d21b3860",
   "metadata": {},
   "outputs": [],
   "source": [
    "pickle.dump(svm_model_linear, open( \"model.p\", \"wb\" ) )"
   ]
  },
  {
   "cell_type": "code",
   "execution_count": 104,
   "id": "83b5665d",
   "metadata": {},
   "outputs": [
    {
     "data": {
      "text/plain": [
       "'{\"Make_CLIMAX\":{\"0\":0},\"Make_ELMETEC\":{\"0\":0},\"Make_J&P\":{\"0\":0},\"Make_MML\":{\"0\":0},\"Make_P\\\\/POWER\":{\"0\":0},\"Make_PEL\":{\"0\":0},\"Make_SAMCO\":{\"0\":0},\"Make_SIEMENS\":{\"0\":1},\"Make_T\\\\/FAB\":{\"0\":0},\"Make_T\\\\/PAK\":{\"0\":0},\"Make_T\\\\/POWER\":{\"0\":0},\"Make_VALIDUS\":{\"0\":0},\"Make_missing\":{\"0\":0},\"Faulty_Transformer_Date_01\":{\"0\":0},\"Faulty_Transformer_Date_02\":{\"0\":0},\"Faulty_Transformer_Date_03\":{\"0\":0},\"Faulty_Transformer_Date_04\":{\"0\":0},\"Faulty_Transformer_Date_05\":{\"0\":0},\"Faulty_Transformer_Date_06\":{\"0\":0},\"Faulty_Transformer_Date_07\":{\"0\":0},\"Faulty_Transformer_Date_08\":{\"0\":0},\"Faulty_Transformer_Date_09\":{\"0\":0},\"Faulty_Transformer_Date_10\":{\"0\":0},\"Faulty_Transformer_Date_11\":{\"0\":0},\"Faulty_Transformer_Date_12\":{\"0\":1},\"Faulty_Transformer_Date_missing\":{\"0\":0},\"REGION_R1\":{\"0\":0},\"REGION_R2\":{\"0\":0},\"REGION_R3\":{\"0\":0},\"REGION_R4\":{\"0\":1},\"CLUSTER_CB\":{\"0\":0},\"CLUSTER_CD\":{\"0\":0},\"CLUSTER_CG\":{\"0\":0},\"CLUSTER_CJ\":{\"0\":0},\"CLUSTER_CK\":{\"0\":0},\"CLUSTER_CN\":{\"0\":1},\"CLUSTER_CO\":{\"0\":0},\"CLUSTER_CQ\":{\"0\":0},\"CLUSTER_CS\":{\"0\":0},\"CLUSTER_CU\":{\"0\":0},\"Transformer_Repaired_By_TSW_NO\":{\"0\":1},\"Transformer_Repaired_By_TSW_SCRAPPED\":{\"0\":0},\"Transformer_Repaired_By_TSW_YES\":{\"0\":0},\"TTR_Status_3,FAULTY\":{\"0\":0},\"TTR_Status_3,OPEN\":{\"0\":0},\"TTR_Status_B,FAULTY\":{\"0\":0},\"TTR_Status_B,OPEN\":{\"0\":0},\"TTR_Status_OK\":{\"0\":1},\"TTR_Status_R,B,FAULTY\":{\"0\":0},\"TTR_Status_R,B,OPEN\":{\"0\":0},\"TTR_Status_R,FAULTY\":{\"0\":0},\"TTR_Status_R,OPEN\":{\"0\":0},\"TTR_Status_R,Y,FAULTY\":{\"0\":0},\"TTR_Status_R,Y,OPEN\":{\"0\":0},\"TTR_Status_Y,B,FAULTY\":{\"0\":0},\"TTR_Status_Y,B,OPEN\":{\"0\":0},\"TTR_Status_Y,FAULTY\":{\"0\":0},\"TTR_Status_Y,OPEN\":{\"0\":0},\"TTR_Status_nan\":{\"0\":0},\"Work_Details_Carried_Out_BLUE PHASE HT & LT CHANGED\":{\"0\":0},\"Work_Details_Carried_Out_CANABLIZED\":{\"0\":0},\"Work_Details_Carried_Out_Minor Repair\":{\"0\":1},\"Work_Details_Carried_Out_Partial Winding changed\":{\"0\":0},\"Work_Details_Carried_Out_RED PHASE HT & LT CHANGED\":{\"0\":0},\"Work_Details_Carried_Out_RYB, HT & LT CHANGED\":{\"0\":0},\"Work_Details_Carried_Out_YELLOW PHASE HT & LT CHANGED\":{\"0\":0},\"Work_Details_Carried_Out_nan\":{\"0\":0},\"Observations_Aged winding\":{\"0\":0},\"Observations_Cooling pipe damaged\":{\"0\":0},\"Observations_FDF NA (Fault cannot be determined)\":{\"0\":0},\"Observations_Low oil level\":{\"0\":1},\"Observations_Low oil level, Aged insulation\":{\"0\":0},\"Observations_Low oil level, Flashes on bushing\":{\"0\":0},\"Observations_Low oil level, Overloading\":{\"0\":0},\"Observations_Overloading\":{\"0\":0},\"Observations_Top poor\":{\"0\":0},\"Observations_Top poor, HT & LT bushings hopeless\":{\"0\":0},\"Observations_Top poor, HT & LT bushings hopeless, Low oil level\":{\"0\":0},\"Observations_Top poor, Low oil level\":{\"0\":0},\"Capacity\\\\n(KVA)\":{\"0\":-1.1388403663},\"Max._Allowable_Loading_Per_Phase\":{\"0\":-1.1384252943},\"RED_PHASE_LOADING\":{\"0\":0.0592365278},\"YELLOW_PHASE_LOADING\":{\"0\":0.1021671184},\"BLUE_PHASE_LOADING\":{\"0\":0.0636705352},\"Rated_Power\":{\"0\":-1.1384252943},\"Max._oil_level_(Ltr.)\":{\"0\":-0.684388239},\"Oil_Quantity\":{\"0\":-0.985991608},\"Oil_%\":{\"0\":-0.0801064339}}'"
      ]
     },
     "execution_count": 104,
     "metadata": {},
     "output_type": "execute_result"
    }
   ],
   "source": [
    "df[:1].to_json()"
   ]
  },
  {
   "cell_type": "code",
   "execution_count": 123,
   "id": "af3e1179",
   "metadata": {},
   "outputs": [],
   "source": [
    "json_data = {\"Make_CLIMAX\":{\"0\":0},\"Make_ELMETEC\":{\"0\":0},\"Make_J&P\":{\"0\":0},\"Make_MML\":{\"0\":0},\"Make_P/POWER\":{\"0\":0},\"Make_PEL\":{\"0\":0},\"Make_SAMCO\":{\"0\":0},\"Make_SIEMENS\":{\"0\":1},\"Make_T/FAB\":{\"0\":0},\"Make_T/PAK\":{\"0\":0},\"Make_T/POWER\":{\"0\":0},\"Make_VALIDUS\":{\"0\":0},\"Make_missing\":{\"0\":0},\"Faulty_Transformer_Date_01\":{\"0\":0},\"Faulty_Transformer_Date_02\":{\"0\":0},\"Faulty_Transformer_Date_03\":{\"0\":0},\"Faulty_Transformer_Date_04\":{\"0\":0},\"Faulty_Transformer_Date_05\":{\"0\":0},\"Faulty_Transformer_Date_06\":{\"0\":0},\"Faulty_Transformer_Date_07\":{\"0\":0},\"Faulty_Transformer_Date_08\":{\"0\":0},\"Faulty_Transformer_Date_09\":{\"0\":0},\"Faulty_Transformer_Date_10\":{\"0\":0},\"Faulty_Transformer_Date_11\":{\"0\":0},\"Faulty_Transformer_Date_12\":{\"0\":1},\"Faulty_Transformer_Date_missing\":{\"0\":0},\"REGION_R1\":{\"0\":0},\"REGION_R2\":{\"0\":0},\"REGION_R3\":{\"0\":0},\"REGION_R4\":{\"0\":1},\"CLUSTER_CB\":{\"0\":0},\"CLUSTER_CD\":{\"0\":0},\"CLUSTER_CG\":{\"0\":0},\"CLUSTER_CJ\":{\"0\":0},\"CLUSTER_CK\":{\"0\":0},\"CLUSTER_CN\":{\"0\":1},\"CLUSTER_CO\":{\"0\":0},\"CLUSTER_CQ\":{\"0\":0},\"CLUSTER_CS\":{\"0\":0},\"CLUSTER_CU\":{\"0\":0},\"Transformer_Repaired_By_TSW_NO\":{\"0\":1},\"Transformer_Repaired_By_TSW_SCRAPPED\":{\"0\":0},\"Transformer_Repaired_By_TSW_YES\":{\"0\":0},\"TTR_Status_3,FAULTY\":{\"0\":0},\"TTR_Status_3,OPEN\":{\"0\":0},\"TTR_Status_B,FAULTY\":{\"0\":0},\"TTR_Status_B,OPEN\":{\"0\":0},\"TTR_Status_OK\":{\"0\":1},\"TTR_Status_R,B,FAULTY\":{\"0\":0},\"TTR_Status_R,B,OPEN\":{\"0\":0},\"TTR_Status_R,FAULTY\":{\"0\":0},\"TTR_Status_R,OPEN\":{\"0\":0},\"TTR_Status_R,Y,FAULTY\":{\"0\":0},\"TTR_Status_R,Y,OPEN\":{\"0\":0},\"TTR_Status_Y,B,FAULTY\":{\"0\":0},\"TTR_Status_Y,B,OPEN\":{\"0\":0},\"TTR_Status_Y,FAULTY\":{\"0\":0},\"TTR_Status_Y,OPEN\":{\"0\":0},\"TTR_Status_nan\":{\"0\":0},\"Work_Details_Carried_Out_BLUE PHASE HT & LT CHANGED\":{\"0\":0},\"Work_Details_Carried_Out_CANABLIZED\":{\"0\":0},\"Work_Details_Carried_Out_Minor Repair\":{\"0\":1},\"Work_Details_Carried_Out_Partial Winding changed\":{\"0\":0},\"Work_Details_Carried_Out_RED PHASE HT & LT CHANGED\":{\"0\":0},\"Work_Details_Carried_Out_RYB, HT & LT CHANGED\":{\"0\":0},\"Work_Details_Carried_Out_YELLOW PHASE HT & LT CHANGED\":{\"0\":0},\"Work_Details_Carried_Out_nan\":{\"0\":0},\"Observations_Aged winding\":{\"0\":0},\"Observations_Cooling pipe damaged\":{\"0\":0},\"Observations_FDF NA (Fault cannot be determined)\":{\"0\":0},\"Observations_Low oil level\":{\"0\":1},\"Observations_Low oil level, Aged insulation\":{\"0\":0},\"Observations_Low oil level, Flashes on bushing\":{\"0\":0},\"Observations_Low oil level, Overloading\":{\"0\":0},\"Observations_Overloading\":{\"0\":0},\"Observations_Top poor\":{\"0\":0},\"Observations_Top poor, HT & LT bushings hopeless\":{\"0\":0},\"Observations_Top poor, HT & LT bushings hopeless, Low oil level\":{\"0\":0},\"Observations_Top poor, Low oil level\":{\"0\":0},\"Capacity\\\\n(KVA)\":{\"0\":-1.1388403663},\"Max._Allowable_Loading_Per_Phase\":{\"0\":-1.1384252943},\"RED_PHASE_LOADING\":{\"0\":0.0592365278},\"YELLOW_PHASE_LOADING\":{\"0\":0.1021671184},\"BLUE_PHASE_LOADING\":{\"0\":0.0636705352},\"Rated_Power\":{\"0\":-1.1384252943},\"Max._oil_level_(Ltr.)\":{\"0\":-0.684388239},\"Oil_Quantity\":{\"0\":-0.985991608},\"Oil_%\":{\"0\":-0.0801064339}}"
   ]
  },
  {
   "cell_type": "code",
   "execution_count": 124,
   "id": "511629ba",
   "metadata": {},
   "outputs": [],
   "source": [
    "import requests\n",
    "URL = \"http://ec2-3-99-130-65.ca-central-1.compute.amazonaws.com:5000/scoring\"\n",
    "# sending get request and saving the response as response object \n",
    "r = requests.post(url = URL, json = json_data) "
   ]
  },
  {
   "cell_type": "code",
   "execution_count": 125,
   "id": "3e22a666",
   "metadata": {},
   "outputs": [
    {
     "name": "stdout",
     "output_type": "stream",
     "text": [
      "[\n",
      "    \"Proactive Maintenance\"\n",
      "]\n",
      "\n"
     ]
    }
   ],
   "source": [
    "print(r.text)"
   ]
  },
  {
   "cell_type": "code",
   "execution_count": 111,
   "id": "b7f91c6f",
   "metadata": {},
   "outputs": [
    {
     "data": {
      "text/plain": [
       "array(['Proactive Maintenance'], dtype=object)"
      ]
     },
     "execution_count": 111,
     "metadata": {},
     "output_type": "execute_result"
    }
   ],
   "source": [
    "svm_model_linear.predict(df[:1])"
   ]
  },
  {
   "cell_type": "code",
   "execution_count": null,
   "id": "a396f825",
   "metadata": {},
   "outputs": [],
   "source": [
    "#################################################\n",
    "from sklearn.metrics import accuracy_score\n",
    "from sklearn.pipeline import Pipeline\n",
    "\n",
    "pipeline = Pipeline(steps=[('scaling', StandardScaler()),\n",
    "                           ('pca', PCA(n_components=3)),\n",
    "                           ('classifier', SVC(kernel = 'linear', C = 1))\n",
    "pipeline.fit(X_train, y_train)\n",
    "\n",
    "y_pred = pipeline.predict(X_test)\n",
    "acc = accuracy_score(y_test, y_pred)\n",
    "print(f'Test set accuracy: {acc}')"
   ]
  },
  {
   "cell_type": "code",
   "execution_count": null,
   "id": "b81f2131",
   "metadata": {},
   "outputs": [],
   "source": [
    "fig = plt.figure(figsize=(10,10))\n",
    "    fig.suptitle('How to compare sklearn classification algorithms')\n",
    "    ax = fig.add_subplot(111)\n",
    "    plt.boxplot(results)\n",
    "    ax.set_xticklabels(names)\n",
    "    plt.show()"
   ]
  }
 ],
 "metadata": {
  "kernelspec": {
   "display_name": "miniproj9",
   "language": "python",
   "name": "miniproj9"
  },
  "language_info": {
   "codemirror_mode": {
    "name": "ipython",
    "version": 3
   },
   "file_extension": ".py",
   "mimetype": "text/x-python",
   "name": "python",
   "nbconvert_exporter": "python",
   "pygments_lexer": "ipython3",
   "version": "3.7.11"
  }
 },
 "nbformat": 4,
 "nbformat_minor": 5
}
